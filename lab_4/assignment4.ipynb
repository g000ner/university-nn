{
  "cells": [
    {
      "cell_type": "markdown",
      "metadata": {
        "id": "SZTVl9xmIghl"
      },
      "source": [
        "# Лабораторная работа 4"
      ]
    },
    {
      "cell_type": "markdown",
      "metadata": {
        "id": "LpZfnU4PIgho"
      },
      "source": [
        "Tensorflow 2.x\n",
        "\n",
        "1) Подготовка данных\n",
        "\n",
        "2) Использование Keras Model API\n",
        "\n",
        "3) Использование Keras Sequential + Functional API"
      ]
    },
    {
      "cell_type": "markdown",
      "metadata": {
        "id": "Qk7aXzplIghp"
      },
      "source": [
        "https://www.tensorflow.org/tutorials"
      ]
    },
    {
      "cell_type": "markdown",
      "metadata": {
        "id": "svYwjt6xIghq"
      },
      "source": [
        "Для выполнения лабораторной работы необходимо установить tensorflow версии 2.0 или выше .\n",
        "\n",
        "Рекомендуется использовать возможности Colab'а по обучению моделей на GPU.\n",
        "\n"
      ]
    },
    {
      "cell_type": "code",
      "execution_count": 12,
      "metadata": {
        "colab": {
          "base_uri": "https://localhost:8080/"
        },
        "id": "Ha4los1vJ-MI",
        "outputId": "243f1082-04a8-4884-a73e-fbc660f27c20"
      },
      "outputs": [
        {
          "name": "stdout",
          "output_type": "stream",
          "text": [
            "Name: tensorflow\n",
            "Version: 2.15.0\n",
            "Summary: TensorFlow is an open source machine learning framework for everyone.\n",
            "Home-page: https://www.tensorflow.org/\n",
            "Author: Google Inc.\n",
            "Author-email: packages@tensorflow.org\n",
            "License: Apache 2.0\n",
            "Location: /usr/local/lib/python3.10/dist-packages\n",
            "Requires: absl-py, astunparse, flatbuffers, gast, google-pasta, grpcio, h5py, keras, libclang, ml-dtypes, numpy, opt-einsum, packaging, protobuf, setuptools, six, tensorboard, tensorflow-estimator, tensorflow-io-gcs-filesystem, termcolor, typing-extensions, wrapt\n",
            "Required-by: dopamine-rl, tf_keras\n"
          ]
        }
      ],
      "source": [
        "!pip show tensorflow"
      ]
    },
    {
      "cell_type": "code",
      "execution_count": 16,
      "metadata": {
        "id": "-iooEQlVIghq"
      },
      "outputs": [],
      "source": [
        "import os\n",
        "import tensorflow as tf\n",
        "import numpy as np\n",
        "import math\n",
        "import timeit\n",
        "import matplotlib.pyplot as plt\n",
        "from sklearn.datasets import load_digits\n",
        "from sklearn.model_selection import train_test_split\n",
        "\n",
        "%matplotlib inline"
      ]
    },
    {
      "cell_type": "code",
      "execution_count": 17,
      "metadata": {
        "colab": {
          "base_uri": "https://localhost:8080/"
        },
        "id": "TonXkgGPMRvf",
        "outputId": "6f8c2916-903f-4368-81c9-cc394ec50fd5"
      },
      "outputs": [
        {
          "name": "stdout",
          "output_type": "stream",
          "text": [
            "Using device:  /device:GPU:0\n"
          ]
        }
      ],
      "source": [
        "\n",
        "USE_GPU = True\n",
        "\n",
        "if USE_GPU:\n",
        "    device = '/device:GPU:0'\n",
        "else:\n",
        "    device = '/cpu:0'\n",
        "\n",
        "print_every = 100  # как часто выводить информацию при обучении моделей\n",
        "\n",
        "\n",
        "print('Using device: ', device)"
      ]
    },
    {
      "cell_type": "markdown",
      "metadata": {
        "id": "G9X0wWDkIghs"
      },
      "source": [
        "# Подготовка данных\n",
        "Загрузите набор данных из предыдущей лабораторной работы."
      ]
    },
    {
      "cell_type": "code",
      "execution_count": 18,
      "metadata": {
        "colab": {
          "base_uri": "https://localhost:8080/"
        },
        "id": "Xz_0uHK3Ight",
        "outputId": "a9fcc8f5-393b-4601-8b8c-4dad1e3dfe09"
      },
      "outputs": [
        {
          "name": "stdout",
          "output_type": "stream",
          "text": [
            "Train data shape:  (1077, 8, 8, 1)\n",
            "Train labels shape:  (1077,) int64\n",
            "Validation data shape:  (360, 8, 8, 1)\n",
            "Validation labels shape:  (360,)\n",
            "Test data shape:  (360, 8, 8, 1)\n",
            "Test labels shape:  (360,)\n"
          ]
        }
      ],
      "source": [
        "# грузим датасет\n",
        "digits = load_digits()\n",
        "# разделение данных на признаки и метки классов\n",
        "X = digits.data\n",
        "y = digits.target\n",
        "\n",
        "# количество классов\n",
        "num_classes = len(set(y))\n",
        "\n",
        "# словарь, в котором ключи - классы, а значения - списки индексов изображений этих классов\n",
        "class_indices = {i: [] for i in range(num_classes)}\n",
        "for i, label in enumerate(y):\n",
        "    class_indices[int(label)].append(i)\n",
        "\n",
        "# разделение на тест, тренировочные и валидационные данные\n",
        "X_train, X_test, y_train, y_test = train_test_split(X, y, test_size=0.2, random_state=42)\n",
        "X_train, X_val, y_train, y_val = train_test_split(X_train, y_train, test_size=0.25, random_state=42)  # 0.25 x 0.8 = 0.2\n",
        "\n",
        "# разворачиваем изображения в одномерный массив\n",
        "X_train = X_train.reshape(-1, 8, 8, 1)\n",
        "X_val = X_val.reshape(-1, 8, 8, 1)\n",
        "X_test = X_test.reshape(-1, 8, 8, 1)\n",
        "\n",
        "\n",
        "print('Train data shape: ', X_train.shape)\n",
        "print('Train labels shape: ', y_train.shape, y_train.dtype)\n",
        "print('Validation data shape: ', X_val.shape)\n",
        "print('Validation labels shape: ', y_val.shape)\n",
        "print('Test data shape: ', X_test.shape)\n",
        "print('Test labels shape: ', y_test.shape)"
      ]
    },
    {
      "cell_type": "code",
      "execution_count": 19,
      "metadata": {
        "id": "UoQqS1KVIghu"
      },
      "outputs": [],
      "source": [
        "class Dataset(object):\n",
        "    def __init__(self, X, y, batch_size, shuffle=False):\n",
        "        \"\"\"\n",
        "        Construct a Dataset object to iterate over data X and labels y\n",
        "\n",
        "        Inputs:\n",
        "        - X: Numpy array of data, of any shape\n",
        "        - y: Numpy array of labels, of any shape but with y.shape[0] == X.shape[0]\n",
        "        - batch_size: Integer giving number of elements per minibatch\n",
        "        - shuffle: (optional) Boolean, whether to shuffle the data on each epoch\n",
        "        \"\"\"\n",
        "        assert X.shape[0] == y.shape[0], 'Got different numbers of data and labels'\n",
        "        self.X, self.y = X, y\n",
        "        self.batch_size, self.shuffle = batch_size, shuffle\n",
        "\n",
        "    def __iter__(self):\n",
        "        N, B = self.X.shape[0], self.batch_size\n",
        "        idxs = np.arange(N)\n",
        "        if self.shuffle:\n",
        "            np.random.shuffle(idxs)\n",
        "        return iter((self.X[i:i+B], self.y[i:i+B]) for i in range(0, N, B))\n",
        "\n",
        "\n",
        "bs = 3\n",
        "train_dset = Dataset(X_train, y_train, batch_size=bs, shuffle=True)\n",
        "val_dset = Dataset(X_val, y_val, batch_size=bs, shuffle=False)\n",
        "test_dset = Dataset(X_test, y_test, batch_size=bs)"
      ]
    },
    {
      "cell_type": "code",
      "execution_count": 20,
      "metadata": {
        "colab": {
          "base_uri": "https://localhost:8080/"
        },
        "id": "JmORvFZKIghu",
        "outputId": "fe6f7293-a129-4b51-ad80-5a55410b6946"
      },
      "outputs": [
        {
          "name": "stdout",
          "output_type": "stream",
          "text": [
            "0 (3, 8, 8, 1) (3,)\n",
            "1 (3, 8, 8, 1) (3,)\n",
            "2 (3, 8, 8, 1) (3,)\n",
            "3 (3, 8, 8, 1) (3,)\n",
            "4 (3, 8, 8, 1) (3,)\n",
            "5 (3, 8, 8, 1) (3,)\n",
            "6 (3, 8, 8, 1) (3,)\n"
          ]
        }
      ],
      "source": [
        "# We can iterate through a dataset like this:\n",
        "for t, (x, y) in enumerate(train_dset):\n",
        "    print(t, x.shape, y.shape)\n",
        "    if t > 5: break"
      ]
    },
    {
      "cell_type": "markdown",
      "metadata": {
        "id": "re3GVVqeIghw"
      },
      "source": [
        "#  Keras Model Subclassing API"
      ]
    },
    {
      "cell_type": "markdown",
      "metadata": {
        "id": "4Y_BMvW2Ighw"
      },
      "source": [
        "\n",
        "Для реализации собственной модели с помощью Keras Model Subclassing API необходимо выполнить следующие шаги:\n",
        "\n",
        "1) Определить новый класс, который является наследником tf.keras.Model.\n",
        "\n",
        "2) В методе __init__() определить все необходимые слои из модуля tf.keras.layer\n",
        "\n",
        "3) Реализовать прямой проход в методе call() на основе слоев, объявленных в __init__()\n",
        "\n",
        "Ниже приведен пример использования keras API для определения двухслойной полносвязной сети.\n",
        "\n",
        "https://www.tensorflow.org/versions/r2.0/api_docs/python/tf/keras"
      ]
    },
    {
      "cell_type": "code",
      "execution_count": 21,
      "metadata": {
        "colab": {
          "base_uri": "https://localhost:8080/"
        },
        "id": "hGjsiBL8Ighx",
        "outputId": "b8776525-fe6b-4893-d461-f428ab9bb9a9"
      },
      "outputs": [
        {
          "name": "stdout",
          "output_type": "stream",
          "text": [
            "(64, 10)\n"
          ]
        },
        {
          "name": "stderr",
          "output_type": "stream",
          "text": [
            "/usr/local/lib/python3.10/dist-packages/keras/src/initializers/initializers.py:120: UserWarning: The initializer VarianceScaling is unseeded and being called multiple times, which will return identical values each time (even if the initializer is unseeded). Please update your code to provide a seed to the initializer, or avoid using the same initializer instance more than once.\n",
            "  warnings.warn(\n"
          ]
        }
      ],
      "source": [
        "class TwoLayerFC(tf.keras.Model):\n",
        "    def __init__(self, hidden_size, num_classes):\n",
        "        super(TwoLayerFC, self).__init__()\n",
        "        initializer = tf.initializers.VarianceScaling(scale=2.0)\n",
        "        self.fc1 = tf.keras.layers.Dense(hidden_size, activation='relu',\n",
        "                                   kernel_initializer=initializer)\n",
        "        self.fc2 = tf.keras.layers.Dense(num_classes, activation='softmax',\n",
        "                                   kernel_initializer=initializer)\n",
        "        self.flatten = tf.keras.layers.Flatten()\n",
        "\n",
        "    def call(self, x, training=False):\n",
        "        x = self.flatten(x)\n",
        "        x = self.fc1(x)\n",
        "        x = self.fc2(x)\n",
        "        return x\n",
        "\n",
        "\n",
        "def test_TwoLayerFC():\n",
        "    \"\"\" A small unit test to exercise the TwoLayerFC model above. \"\"\"\n",
        "    input_size, hidden_size, num_classes = 50, 42, 10\n",
        "    x = tf.zeros((64, input_size))\n",
        "    model = TwoLayerFC(hidden_size, num_classes)\n",
        "    with tf.device(device):\n",
        "        scores = model(x)\n",
        "        print(scores.shape)\n",
        "\n",
        "test_TwoLayerFC()"
      ]
    },
    {
      "cell_type": "markdown",
      "metadata": {
        "id": "Jyhys2TuIghx"
      },
      "source": [
        "Реализуйте трехслойную CNN для вашей задачи классификации.\n",
        "\n",
        "Архитектура сети:\n",
        "    \n",
        "1. Сверточный слой (5 x 5 kernels, zero-padding = 'same')\n",
        "2. Функция активации ReLU\n",
        "3. Сверточный слой (3 x 3 kernels, zero-padding = 'same')\n",
        "4. Функция активации ReLU\n",
        "5. Полносвязный слой\n",
        "6. Функция активации Softmax\n",
        "\n",
        "https://www.tensorflow.org/versions/r2.0/api_docs/python/tf/keras/layers/Conv2D\n",
        "\n",
        "https://www.tensorflow.org/versions/r2.0/api_docs/python/tf/keras/layers/Dense"
      ]
    },
    {
      "cell_type": "code",
      "execution_count": 22,
      "metadata": {
        "id": "zFRJVoOIIghx"
      },
      "outputs": [],
      "source": [
        "class ThreeLayerConvNet(tf.keras.Model):\n",
        "    def __init__(self, channel_1, channel_2, num_classes):\n",
        "        super(ThreeLayerConvNet, self).__init__()\n",
        "        ########################################################################\n",
        "        # TODO: Implement the __init__ method for a three-layer ConvNet. You   #\n",
        "        # should instantiate layer objects to be used in the forward pass.     #\n",
        "        ########################################################################\n",
        "        # *****START OF YOUR CODE (DO NOT DELETE/MODIFY THIS LINE)*****\n",
        "\n",
        "        self.conv1 = tf.keras.layers.Conv2D(channel_1, (5, 5), padding='same', activation='relu')\n",
        "        self.conv2 = tf.keras.layers.Conv2D(channel_2, (3, 3), padding='same', activation='relu')\n",
        "        self.flatten = tf.keras.layers.Flatten()\n",
        "        self.fc = tf.keras.layers.Dense(num_classes, activation='softmax')\n",
        "\n",
        "        # *****END OF YOUR CODE (DO NOT DELETE/MODIFY THIS LINE)*****\n",
        "        ########################################################################\n",
        "        #                           END OF YOUR CODE                           #\n",
        "        ########################################################################\n",
        "\n",
        "    def call(self, x, training=False):\n",
        "        scores = None\n",
        "        ########################################################################\n",
        "        # TODO: Implement the forward pass for a three-layer ConvNet. You      #\n",
        "        # should use the layer objects defined in the __init__ method.         #\n",
        "        ########################################################################\n",
        "        # *****START OF YOUR CODE (DO NOT DELETE/MODIFY THIS LINE)*****\n",
        "\n",
        "        scores = self.conv1(x)\n",
        "        scores = self.conv2(scores)\n",
        "        scores = self.flatten(scores)\n",
        "        scores = self.fc(scores)\n",
        "\n",
        "        # *****END OF YOUR CODE (DO NOT DELETE/MODIFY THIS LINE)*****\n",
        "        ########################################################################\n",
        "        #                           END OF YOUR CODE                           #\n",
        "        ########################################################################\n",
        "        return scores"
      ]
    },
    {
      "cell_type": "code",
      "execution_count": 23,
      "metadata": {
        "colab": {
          "base_uri": "https://localhost:8080/"
        },
        "id": "lD41IeGKIghy",
        "outputId": "e4afa526-fbe6-48c0-90f5-049a1cac1150"
      },
      "outputs": [
        {
          "name": "stdout",
          "output_type": "stream",
          "text": [
            "(64, 10)\n"
          ]
        }
      ],
      "source": [
        "def test_ThreeLayerConvNet():\n",
        "    channel_1, channel_2, num_classes = 12, 8, 10\n",
        "    model = ThreeLayerConvNet(channel_1, channel_2, num_classes)\n",
        "    with tf.device(device):\n",
        "        x = tf.zeros((64, 3, 32, 32))\n",
        "        scores = model(x)\n",
        "        print(scores.shape)\n",
        "\n",
        "test_ThreeLayerConvNet()"
      ]
    },
    {
      "cell_type": "markdown",
      "metadata": {
        "id": "0otPoNuMIghy"
      },
      "source": [
        "Пример реализации процесса обучения:"
      ]
    },
    {
      "cell_type": "code",
      "execution_count": 24,
      "metadata": {
        "cellView": "code",
        "id": "GAbuHwu0Ighy"
      },
      "outputs": [],
      "source": [
        "# @title Текст заголовка по умолчанию\n",
        "def train_part34(model_init_fn, optimizer_init_fn, num_epochs=1, is_training=False):\n",
        "    \"\"\"\n",
        "    Simple training loop for use with models defined using tf.keras. It trains\n",
        "    a model for one epoch on the CIFAR-10 training set and periodically checks\n",
        "    accuracy on the CIFAR-10 validation set.\n",
        "\n",
        "    Inputs:\n",
        "    - model_init_fn: A function that takes no parameters; when called it\n",
        "      constructs the model we want to train: model = model_init_fn()\n",
        "    - optimizer_init_fn: A function which takes no parameters; when called it\n",
        "      constructs the Optimizer object we will use to optimize the model:\n",
        "      optimizer = optimizer_init_fn()\n",
        "    - num_epochs: The number of epochs to train for\n",
        "\n",
        "    Returns: Nothing, but prints progress during trainingn\n",
        "    \"\"\"\n",
        "    val_accuracy_results = []\n",
        "    with tf.device(device):\n",
        "\n",
        "\n",
        "        loss_fn = tf.keras.losses.SparseCategoricalCrossentropy()\n",
        "\n",
        "        model = model_init_fn()\n",
        "        optimizer = optimizer_init_fn()\n",
        "\n",
        "        train_loss = tf.keras.metrics.Mean(name='train_loss')\n",
        "        train_accuracy = tf.keras.metrics.SparseCategoricalAccuracy(name='train_accuracy')\n",
        "\n",
        "        val_loss = tf.keras.metrics.Mean(name='val_loss')\n",
        "        val_accuracy = tf.keras.metrics.SparseCategoricalAccuracy(name='val_accuracy')\n",
        "\n",
        "        t = 0\n",
        "        for epoch in range(num_epochs):\n",
        "\n",
        "            # Reset the metrics - https://www.tensorflow.org/alpha/guide/migration_guide#new-style_metrics\n",
        "            train_loss.reset_states()\n",
        "            train_accuracy.reset_states()\n",
        "\n",
        "            for x_np, y_np in train_dset:\n",
        "\n",
        "                with tf.GradientTape() as tape:\n",
        "\n",
        "                    # Use the model function to build the forward pass.\n",
        "                    scores = model(x_np, training=is_training)\n",
        "                    loss = loss_fn(y_np, scores)\n",
        "\n",
        "                    gradients = tape.gradient(loss, model.trainable_variables)\n",
        "                    optimizer.apply_gradients(zip(gradients, model.trainable_variables))\n",
        "\n",
        "                    # Update the metrics\n",
        "                    train_loss.update_state(loss)\n",
        "                    train_accuracy.update_state(y_np, scores)\n",
        "\n",
        "                    if t % print_every == 0:\n",
        "                        val_loss.reset_states()\n",
        "                        val_accuracy.reset_states()\n",
        "                        for test_x, test_y in val_dset:\n",
        "                            # During validation at end of epoch, training set to False\n",
        "                            prediction = model(test_x, training=False)\n",
        "                            t_loss = loss_fn(test_y, prediction)\n",
        "\n",
        "                            val_loss.update_state(t_loss)\n",
        "                            val_accuracy.update_state(test_y, prediction)\n",
        "\n",
        "                        template = 'Iteration {}, Epoch {}, Loss: {}, Accuracy: {}, Val Loss: {}, Val Accuracy: {}'\n",
        "                        print (template.format(t, epoch+1,\n",
        "                                             train_loss.result(),\n",
        "                                             train_accuracy.result()*100,\n",
        "                                             val_loss.result(),\n",
        "                                             val_accuracy.result()*100))\n",
        "                        val_accuracy_results.append(val_accuracy.result()*100)\n",
        "                    t += 1\n",
        "\n",
        "    val_accuracy_results_numpy = [val.numpy() for val in val_accuracy_results]\n",
        "    return val_accuracy_results_numpy"
      ]
    },
    {
      "cell_type": "code",
      "execution_count": 25,
      "metadata": {
        "colab": {
          "base_uri": "https://localhost:8080/"
        },
        "id": "aQzKQwQkIghy",
        "outputId": "31f206ec-80d8-471d-a2b3-98fcdd00229a"
      },
      "outputs": [
        {
          "name": "stdout",
          "output_type": "stream",
          "text": [
            "Iteration 0, Epoch 1, Loss: 20.383867263793945, Accuracy: 33.333335876464844, Val Loss: 630.797607421875, Val Accuracy: 19.16666603088379\n",
            "Iteration 100, Epoch 1, Loss: 56.6527099609375, Accuracy: 67.98680114746094, Val Loss: 4.714787006378174, Val Accuracy: 89.44444274902344\n",
            "Iteration 200, Epoch 1, Loss: 29.97446060180664, Accuracy: 79.93367004394531, Val Loss: 4.830074787139893, Val Accuracy: 86.1111068725586\n",
            "Iteration 300, Epoch 1, Loss: 21.440536499023438, Accuracy: 82.94573211669922, Val Loss: 3.527115821838379, Val Accuracy: 86.38888549804688\n"
          ]
        },
        {
          "data": {
            "text/plain": [
              "[19.166666, 89.44444, 86.11111, 86.388885]"
            ]
          },
          "execution_count": 25,
          "metadata": {},
          "output_type": "execute_result"
        }
      ],
      "source": [
        "hidden_size, num_classes = 4000, 10\n",
        "learning_rate = 1e-2\n",
        "\n",
        "def model_init_fn():\n",
        "    return TwoLayerFC(hidden_size, num_classes)\n",
        "\n",
        "def optimizer_init_fn():\n",
        "    return tf.keras.optimizers.SGD(learning_rate=learning_rate)\n",
        "\n",
        "train_part34(model_init_fn, optimizer_init_fn)"
      ]
    },
    {
      "cell_type": "markdown",
      "metadata": {
        "id": "M-flZKGlIghz"
      },
      "source": [
        "Обучите трехслойную CNN. В tf.keras.optimizers.SGD укажите Nesterov momentum = 0.9 .\n",
        "\n",
        "https://www.tensorflow.org/versions/r2.0/api_docs/python/tf/optimizers/SGD\n",
        "\n",
        "Значение accuracy на валидационной выборке после 1 эпохи обучения должно быть > 50% ."
      ]
    },
    {
      "cell_type": "code",
      "execution_count": 26,
      "metadata": {
        "colab": {
          "base_uri": "https://localhost:8080/"
        },
        "id": "p-cGFzrdIghz",
        "outputId": "4fc6af81-3fb0-4226-cf0b-e8330fd739b0"
      },
      "outputs": [
        {
          "name": "stderr",
          "output_type": "stream",
          "text": [
            "WARNING:tensorflow:5 out of the last 1437 calls to <function _BaseOptimizer._update_step_xla at 0x7c87cb937f40> triggered tf.function retracing. Tracing is expensive and the excessive number of tracings could be due to (1) creating @tf.function repeatedly in a loop, (2) passing tensors with different shapes, (3) passing Python objects instead of tensors. For (1), please define your @tf.function outside of the loop. For (2), @tf.function has reduce_retracing=True option that can avoid unnecessary retracing. For (3), please refer to https://www.tensorflow.org/guide/function#controlling_retracing and https://www.tensorflow.org/api_docs/python/tf/function for  more details.\n",
            "WARNING:tensorflow:6 out of the last 1438 calls to <function _BaseOptimizer._update_step_xla at 0x7c87cb937f40> triggered tf.function retracing. Tracing is expensive and the excessive number of tracings could be due to (1) creating @tf.function repeatedly in a loop, (2) passing tensors with different shapes, (3) passing Python objects instead of tensors. For (1), please define your @tf.function outside of the loop. For (2), @tf.function has reduce_retracing=True option that can avoid unnecessary retracing. For (3), please refer to https://www.tensorflow.org/guide/function#controlling_retracing and https://www.tensorflow.org/api_docs/python/tf/function for  more details.\n"
          ]
        },
        {
          "name": "stdout",
          "output_type": "stream",
          "text": [
            "Iteration 0, Epoch 1, Loss: 2.3107712268829346, Accuracy: 33.333335876464844, Val Loss: 3.380685329437256, Val Accuracy: 19.72222137451172\n",
            "Iteration 100, Epoch 1, Loss: 1.35843026638031, Accuracy: 56.435646057128906, Val Loss: 0.9278122782707214, Val Accuracy: 71.38888549804688\n",
            "Iteration 200, Epoch 1, Loss: 0.9566980004310608, Accuracy: 69.65174102783203, Val Loss: 1.2122230529785156, Val Accuracy: 70.55555725097656\n",
            "Iteration 300, Epoch 1, Loss: 0.8174924850463867, Accuracy: 74.9723129272461, Val Loss: 0.3808436989784241, Val Accuracy: 86.66666412353516\n"
          ]
        },
        {
          "data": {
            "text/plain": [
              "[19.722221, 71.388885, 70.55556, 86.666664]"
            ]
          },
          "execution_count": 26,
          "metadata": {},
          "output_type": "execute_result"
        }
      ],
      "source": [
        "learning_rate = 3e-3\n",
        "channel_1, channel_2, num_classes = 8, 8, 10\n",
        "\n",
        "def model_init_fn():\n",
        "    model = None\n",
        "    ############################################################################\n",
        "    # TODO: Complete the implementation of model_fn.                           #\n",
        "    ############################################################################\n",
        "    # *****START OF YOUR CODE (DO NOT DELETE/MODIFY THIS LINE)*****\n",
        "\n",
        "    model = ThreeLayerConvNet(channel_1, channel_2, num_classes)\n",
        "\n",
        "    # *****END OF YOUR CODE (DO NOT DELETE/MODIFY THIS LINE)*****\n",
        "    ############################################################################\n",
        "    #                           END OF YOUR CODE                               #\n",
        "    ############################################################################\n",
        "    return model\n",
        "\n",
        "def optimizer_init_fn():\n",
        "    optimizer = None\n",
        "    ############################################################################\n",
        "    # TODO: Complete the implementation of model_fn.                           #\n",
        "    ############################################################################\n",
        "    # *****START OF YOUR CODE (DO NOT DELETE/MODIFY THIS LINE)*****\n",
        "\n",
        "    optimizer = tf.keras.optimizers.SGD(learning_rate=learning_rate, momentum=0.9, nesterov=True)\n",
        "\n",
        "    # *****END OF YOUR CODE (DO NOT DELETE/MODIFY THIS LINE)*****\n",
        "    ############################################################################\n",
        "    #                           END OF YOUR CODE                               #\n",
        "    ############################################################################\n",
        "    return optimizer\n",
        "\n",
        "train_part34(model_init_fn, optimizer_init_fn)"
      ]
    },
    {
      "cell_type": "markdown",
      "metadata": {
        "id": "YgavepkXIgh0"
      },
      "source": [
        "# Использование Keras Sequential API для реализации последовательных моделей.\n",
        "\n",
        "Пример для полносвязной сети:"
      ]
    },
    {
      "cell_type": "code",
      "execution_count": 27,
      "metadata": {
        "colab": {
          "base_uri": "https://localhost:8080/"
        },
        "id": "oRky-6SkIgh0",
        "outputId": "470d7fbe-ea25-4d5a-cc8e-a5593f0dc851"
      },
      "outputs": [
        {
          "name": "stdout",
          "output_type": "stream",
          "text": [
            "Iteration 0, Epoch 1, Loss: 28.104904174804688, Accuracy: 0.0, Val Loss: 617.0753173828125, Val Accuracy: 17.22222328186035\n",
            "Iteration 100, Epoch 1, Loss: 53.88619613647461, Accuracy: 70.62705993652344, Val Loss: 9.79527759552002, Val Accuracy: 82.77777862548828\n",
            "Iteration 200, Epoch 1, Loss: 29.961313247680664, Accuracy: 79.10447692871094, Val Loss: 3.636854887008667, Val Accuracy: 87.5\n",
            "Iteration 300, Epoch 1, Loss: 21.15459442138672, Accuracy: 83.05648040771484, Val Loss: 7.775902271270752, Val Accuracy: 80.0\n"
          ]
        },
        {
          "data": {
            "text/plain": [
              "[17.222223, 82.77778, 87.5, 80.0]"
            ]
          },
          "execution_count": 27,
          "metadata": {},
          "output_type": "execute_result"
        }
      ],
      "source": [
        "learning_rate = 1e-2\n",
        "\n",
        "def model_init_fn():\n",
        "    input_shape = (8, 8, 1)\n",
        "    hidden_layer_size, num_classes = 4000, 10\n",
        "    initializer = tf.initializers.VarianceScaling(scale=2.0)\n",
        "    layers = [\n",
        "        tf.keras.layers.Flatten(input_shape=input_shape),\n",
        "        tf.keras.layers.Dense(hidden_layer_size, activation='relu',\n",
        "                              kernel_initializer=initializer),\n",
        "        tf.keras.layers.Dense(num_classes, activation='softmax',\n",
        "                              kernel_initializer=initializer),\n",
        "    ]\n",
        "    model = tf.keras.Sequential(layers)\n",
        "    return model\n",
        "\n",
        "def optimizer_init_fn():\n",
        "    return tf.keras.optimizers.SGD(learning_rate=learning_rate)\n",
        "\n",
        "train_part34(model_init_fn, optimizer_init_fn)"
      ]
    },
    {
      "cell_type": "markdown",
      "metadata": {
        "id": "Nav5WKhwIgh0"
      },
      "source": [
        "Альтернативный менее гибкий способ обучения:"
      ]
    },
    {
      "cell_type": "code",
      "execution_count": 28,
      "metadata": {
        "colab": {
          "base_uri": "https://localhost:8080/"
        },
        "id": "FHY0DLfYIgh0",
        "outputId": "ec847d88-779e-4246-85a9-9692052982a2"
      },
      "outputs": [
        {
          "name": "stdout",
          "output_type": "stream",
          "text": [
            "17/17 [==============================] - 1s 15ms/step - loss: 158.7369 - sparse_categorical_accuracy: 0.4893 - val_loss: 5.2581 - val_sparse_categorical_accuracy: 0.8528\n",
            "12/12 [==============================] - 0s 3ms/step - loss: 5.1784 - sparse_categorical_accuracy: 0.8694\n"
          ]
        },
        {
          "data": {
            "text/plain": [
              "[5.178438186645508, 0.8694444298744202]"
            ]
          },
          "execution_count": 28,
          "metadata": {},
          "output_type": "execute_result"
        }
      ],
      "source": [
        "model = model_init_fn()\n",
        "model.compile(optimizer=tf.keras.optimizers.SGD(learning_rate=learning_rate),\n",
        "              loss='sparse_categorical_crossentropy',\n",
        "              metrics=[tf.keras.metrics.sparse_categorical_accuracy])\n",
        "model.fit(X_train, y_train, batch_size=64, epochs=1, validation_data=(X_val, y_val))\n",
        "model.evaluate(X_test, y_test)"
      ]
    },
    {
      "cell_type": "markdown",
      "metadata": {
        "id": "UufGL1-4Igh1"
      },
      "source": [
        "Перепишите реализацию трехслойной CNN с помощью tf.keras.Sequential API . Обучите модель двумя способами."
      ]
    },
    {
      "cell_type": "code",
      "execution_count": 49,
      "metadata": {
        "colab": {
          "base_uri": "https://localhost:8080/"
        },
        "id": "fF9H3-7VIgh1",
        "outputId": "04314650-e7d6-4026-a27a-f9033a7549e9"
      },
      "outputs": [
        {
          "name": "stdout",
          "output_type": "stream",
          "text": [
            "Iteration 0, Epoch 1, Loss: 2.842846155166626, Accuracy: 0.0, Val Loss: 2.5194411277770996, Val Accuracy: 13.333333969116211\n"
          ]
        },
        {
          "data": {
            "text/plain": [
              "[13.333334]"
            ]
          },
          "execution_count": 49,
          "metadata": {},
          "output_type": "execute_result"
        }
      ],
      "source": [
        "def model_init_fn():\n",
        "    ############################################################################\n",
        "    # TODO: Construct a three-layer ConvNet using tf.keras.Sequential.         #\n",
        "    ############################################################################\n",
        "    # *****START OF YOUR CODE (DO NOT DELETE/MODIFY THIS LINE)*****\n",
        "\n",
        "  model = tf.keras.Sequential([\n",
        "      # Первый сверточный слой\n",
        "      tf.keras.layers.Conv2D(32, (5, 5), padding='same', activation='relu', input_shape=(8, 8, 1)),\n",
        "      # Первый пулинг слой\n",
        "      tf.keras.layers.MaxPooling2D((2, 2), strides=(2, 2)),\n",
        "      # Второй сверточный слой\n",
        "      tf.keras.layers.Conv2D(64, (5, 5), padding='same', activation='relu'),\n",
        "      # Второй пулинг слой\n",
        "      tf.keras.layers.MaxPooling2D((2, 2), strides=(2, 2)),\n",
        "      # Разворачиваем данные перед подачей на полносвязный слой\n",
        "      tf.keras.layers.Flatten(),\n",
        "      # Полносвязный слой с relu активацией\n",
        "      tf.keras.layers.Dense(1024, activation='relu'),\n",
        "      # Выходной слой с softmax активацией\n",
        "      tf.keras.layers.Dense(10, activation='softmax')\n",
        "  ])\n",
        "\n",
        "    # *****END OF YOUR CODE (DO NOT DELETE/MODIFY THIS LINE)*****\n",
        "    ############################################################################\n",
        "    #                            END OF YOUR CODE                              #\n",
        "    ############################################################################\n",
        "  return model\n",
        "\n",
        "learning_rate = 5e-4\n",
        "def optimizer_init_fn():\n",
        "    optimizer = None\n",
        "    ############################################################################\n",
        "    # TODO: Complete the implementation of model_fn.                           #\n",
        "    ############################################################################\n",
        "    # *****START OF YOUR CODE (DO NOT DELETE/MODIFY THIS LINE)*****\n",
        "\n",
        "    optimizer = tf.keras.optimizers.Adam(learning_rate=learning_rate)\n",
        "\n",
        "    # *****END OF YOUR CODE (DO NOT DELETE/MODIFY THIS LINE)*****\n",
        "    ############################################################################\n",
        "    #                           END OF YOUR CODE                               #\n",
        "    ############################################################################\n",
        "    return optimizer\n",
        "\n",
        "train_part34(model_init_fn, optimizer_init_fn)"
      ]
    },
    {
      "cell_type": "code",
      "execution_count": 40,
      "metadata": {
        "colab": {
          "base_uri": "https://localhost:8080/"
        },
        "id": "qW05HRtxIgh1",
        "outputId": "de832a7f-0d31-40c4-9372-ac6afe78a61b"
      },
      "outputs": [
        {
          "name": "stdout",
          "output_type": "stream",
          "text": [
            "17/17 [==============================] - 1s 16ms/step - loss: 2.1345 - sparse_categorical_accuracy: 0.3779 - val_loss: 1.7990 - val_sparse_categorical_accuracy: 0.7028\n",
            "12/12 [==============================] - 0s 3ms/step - loss: 1.7844 - sparse_categorical_accuracy: 0.7500\n"
          ]
        },
        {
          "data": {
            "text/plain": [
              "[1.7843624353408813, 0.75]"
            ]
          },
          "execution_count": 40,
          "metadata": {},
          "output_type": "execute_result"
        }
      ],
      "source": [
        "model = model_init_fn()\n",
        "model.compile(optimizer='sgd',\n",
        "              loss='sparse_categorical_crossentropy',\n",
        "              metrics=[tf.keras.metrics.sparse_categorical_accuracy])\n",
        "model.fit(X_train, y_train, batch_size=64, epochs=1, validation_data=(X_val, y_val))\n",
        "model.evaluate(X_test, y_test)"
      ]
    },
    {
      "cell_type": "markdown",
      "metadata": {
        "id": "ow1bfMxwIgh1"
      },
      "source": [
        "# Использование Keras Functional API\n",
        "\n",
        "Для реализации более сложных архитектур сети с несколькими входами/выходами, повторным использованием слоев, \"остаточными\" связями (residual connections) необходимо явно указать входные и выходные тензоры.\n",
        "\n",
        "Ниже представлен пример для полносвязной сети."
      ]
    },
    {
      "cell_type": "code",
      "execution_count": 41,
      "metadata": {
        "colab": {
          "base_uri": "https://localhost:8080/"
        },
        "id": "ThtJaV73Igh1",
        "outputId": "46b3f088-14d1-4831-f413-b106e1d493b9"
      },
      "outputs": [
        {
          "name": "stdout",
          "output_type": "stream",
          "text": [
            "(64, 10)\n"
          ]
        }
      ],
      "source": [
        "def two_layer_fc_functional(input_shape, hidden_size, num_classes):\n",
        "    initializer = tf.initializers.VarianceScaling(scale=2.0)\n",
        "    inputs = tf.keras.Input(shape=input_shape)\n",
        "    flattened_inputs = tf.keras.layers.Flatten()(inputs)\n",
        "    fc1_output = tf.keras.layers.Dense(hidden_size, activation='relu',\n",
        "                                 kernel_initializer=initializer)(flattened_inputs)\n",
        "    scores = tf.keras.layers.Dense(num_classes, activation='softmax',\n",
        "                             kernel_initializer=initializer)(fc1_output)\n",
        "\n",
        "    # Instantiate the model given inputs and outputs.\n",
        "    model = tf.keras.Model(inputs=inputs, outputs=scores)\n",
        "    return model\n",
        "\n",
        "def test_two_layer_fc_functional():\n",
        "    \"\"\" A small unit test to exercise the TwoLayerFC model above. \"\"\"\n",
        "    input_size, hidden_size, num_classes = 50, 42, 10\n",
        "    input_shape = (50,)\n",
        "\n",
        "    x = tf.zeros((64, input_size))\n",
        "    model = two_layer_fc_functional(input_shape, hidden_size, num_classes)\n",
        "\n",
        "    with tf.device(device):\n",
        "        scores = model(x)\n",
        "        print(scores.shape)\n",
        "\n",
        "test_two_layer_fc_functional()"
      ]
    },
    {
      "cell_type": "code",
      "execution_count": 42,
      "metadata": {
        "colab": {
          "base_uri": "https://localhost:8080/"
        },
        "id": "obXsRepiIgh2",
        "outputId": "d5e0a0df-9416-44ab-d693-38f621e3a7da"
      },
      "outputs": [
        {
          "name": "stdout",
          "output_type": "stream",
          "text": [
            "Iteration 0, Epoch 1, Loss: 7.056527614593506, Accuracy: 0.0, Val Loss: 648.7818603515625, Val Accuracy: 16.666667938232422\n",
            "Iteration 100, Epoch 1, Loss: 55.69232177734375, Accuracy: 71.2871322631836, Val Loss: 7.017187595367432, Val Accuracy: 85.27777862548828\n",
            "Iteration 200, Epoch 1, Loss: 30.5064640045166, Accuracy: 80.09950256347656, Val Loss: 7.632270336151123, Val Accuracy: 81.66666412353516\n",
            "Iteration 300, Epoch 1, Loss: 21.924991607666016, Accuracy: 82.61351013183594, Val Loss: 5.517005443572998, Val Accuracy: 83.05555725097656\n"
          ]
        },
        {
          "data": {
            "text/plain": [
              "[16.666668, 85.27778, 81.666664, 83.05556]"
            ]
          },
          "execution_count": 42,
          "metadata": {},
          "output_type": "execute_result"
        }
      ],
      "source": [
        "input_shape = (8, 8, 1)\n",
        "hidden_size, num_classes = 4000, 10\n",
        "learning_rate = 1e-2\n",
        "\n",
        "def model_init_fn():\n",
        "    return two_layer_fc_functional(input_shape, hidden_size, num_classes)\n",
        "\n",
        "def optimizer_init_fn():\n",
        "    return tf.keras.optimizers.SGD(learning_rate=learning_rate)\n",
        "\n",
        "train_part34(model_init_fn, optimizer_init_fn)"
      ]
    },
    {
      "cell_type": "markdown",
      "metadata": {
        "id": "gWvbEV8jIgh2"
      },
      "source": []
    },
    {
      "cell_type": "markdown",
      "metadata": {
        "id": "nn81d1srIgh2"
      },
      "source": [
        "Поэкспериментируйте с архитектурой сверточной сети. Для вашего набора данных вам необходимо получить как минимум 70% accuracy на валидационной выборке за 10 эпох обучения. Опишите все эксперименты и сделайте выводы (без выполнения данного пункта работы приниматься не будут).\n",
        "\n",
        "Эспериментируйте с архитектурой, гиперпараметрами, функцией потерь, регуляризацией, методом оптимизации.  \n",
        "\n",
        "https://www.tensorflow.org/versions/r2.0/api_docs/python/tf/keras/layers/BatchNormalization#methods https://www.tensorflow.org/versions/r2.0/api_docs/python/tf/keras/layers/Dropout#methods"
      ]
    },
    {
      "cell_type": "code",
      "execution_count": 68,
      "metadata": {
        "colab": {
          "base_uri": "https://localhost:8080/"
        },
        "id": "yTOIrV0sIgh2",
        "outputId": "cddf79e1-cafb-4720-b720-de301ff8627f"
      },
      "outputs": [
        {
          "name": "stdout",
          "output_type": "stream",
          "text": [
            "Iteration 0, Epoch 1, Loss: 3.540347099304199, Accuracy: 0.0, Val Loss: 10.43989086151123, Val Accuracy: 3.055555582046509\n",
            "Iteration 100, Epoch 1, Loss: 1.9917025566101074, Accuracy: 30.363035202026367, Val Loss: 1.2537553310394287, Val Accuracy: 64.44444274902344\n",
            "Iteration 200, Epoch 1, Loss: 1.4738492965698242, Accuracy: 52.7363166809082, Val Loss: 0.6282479166984558, Val Accuracy: 84.16666412353516\n",
            "Iteration 300, Epoch 1, Loss: 1.1903799772262573, Accuracy: 62.458473205566406, Val Loss: 0.42779967188835144, Val Accuracy: 89.44444274902344\n",
            "Iteration 400, Epoch 2, Loss: 0.44256511330604553, Accuracy: 85.71428680419922, Val Loss: 0.3012773394584656, Val Accuracy: 93.05555725097656\n",
            "Iteration 500, Epoch 2, Loss: 0.4064231514930725, Accuracy: 87.55868530273438, Val Loss: 0.23789432644844055, Val Accuracy: 94.16666412353516\n",
            "Iteration 600, Epoch 2, Loss: 0.36949482560157776, Accuracy: 88.980712890625, Val Loss: 0.2178606241941452, Val Accuracy: 94.72222137451172\n",
            "Iteration 700, Epoch 2, Loss: 0.34352150559425354, Accuracy: 89.8635482788086, Val Loss: 0.22320081293582916, Val Accuracy: 94.44444274902344\n",
            "Iteration 800, Epoch 3, Loss: 0.2051454335451126, Accuracy: 93.17269134521484, Val Loss: 0.17594362795352936, Val Accuracy: 95.0\n",
            "Iteration 900, Epoch 3, Loss: 0.2171987146139145, Accuracy: 93.07832336425781, Val Loss: 0.15786384046077728, Val Accuracy: 96.38888549804688\n",
            "Iteration 1000, Epoch 3, Loss: 0.21738266944885254, Accuracy: 93.1684341430664, Val Loss: 0.15978167951107025, Val Accuracy: 96.94444274902344\n",
            "Iteration 1100, Epoch 4, Loss: 0.19421114027500153, Accuracy: 95.83332824707031, Val Loss: 0.14360561966896057, Val Accuracy: 95.83332824707031\n",
            "Iteration 1200, Epoch 4, Loss: 0.18000295758247375, Accuracy: 95.16128540039062, Val Loss: 0.1352194994688034, Val Accuracy: 96.11111450195312\n",
            "Iteration 1300, Epoch 4, Loss: 0.167395681142807, Accuracy: 95.08928680419922, Val Loss: 0.12221527844667435, Val Accuracy: 97.77777862548828\n",
            "Iteration 1400, Epoch 4, Loss: 0.15747812390327454, Accuracy: 95.57613372802734, Val Loss: 0.12633633613586426, Val Accuracy: 96.66666412353516\n"
          ]
        },
        {
          "data": {
            "text/plain": [
              "[3.0555556,\n",
              " 64.44444,\n",
              " 84.166664,\n",
              " 89.44444,\n",
              " 93.05556,\n",
              " 94.166664,\n",
              " 94.72222,\n",
              " 94.44444,\n",
              " 95.0,\n",
              " 96.388885,\n",
              " 96.94444,\n",
              " 95.83333,\n",
              " 96.111115,\n",
              " 97.77778,\n",
              " 96.666664]"
            ]
          },
          "execution_count": 68,
          "metadata": {},
          "output_type": "execute_result"
        }
      ],
      "source": [
        "class CustomConvNet(tf.keras.Model):\n",
        "    def __init__(self):\n",
        "        super(CustomConvNet, self).__init__()\n",
        "        ############################################################################\n",
        "        # TODO: Construct a model that performs well on CIFAR-10                   #\n",
        "        ############################################################################\n",
        "        # *****START OF YOUR CODE (DO NOT DELETE/MODIFY THIS LINE)*****\n",
        "        channel_1, channel_2, num_classes = 8, 8, 10\n",
        "        dp_rate = 0.2\n",
        "        initializer = tf.initializers.VarianceScaling(scale=2.0)\n",
        "        self.conv1 = tf.keras.layers.Conv2D(channel_1, [3,3], [1,1], padding='same',\n",
        "                                  kernel_initializer=initializer)\n",
        "        self.bn1 = tf.keras.layers.BatchNormalization()\n",
        "        self.relu1 = tf.keras.layers.ReLU()\n",
        "        self.dp1 = tf.keras.layers.Dropout(rate=dp_rate)\n",
        "        self.conv2 = tf.keras.layers.Conv2D(channel_2, [3,3], [1,1], padding='same',\n",
        "                                  kernel_initializer=initializer)\n",
        "        self.bn2 = tf.keras.layers.BatchNormalization()\n",
        "        self.relu2 = tf.keras.layers.ReLU()\n",
        "        self.dp2 = tf.keras.layers.Dropout(rate=dp_rate)\n",
        "        self.fl = tf.keras.layers.Flatten()\n",
        "        self.fc = tf.keras.layers.Dense(num_classes,\n",
        "                                  activation='softmax',\n",
        "                                  kernel_initializer=initializer)\n",
        "\n",
        "\n",
        "        # *****END OF YOUR CODE (DO NOT DELETE/MODIFY THIS LINE)*****\n",
        "        ############################################################################\n",
        "        #                            END OF YOUR CODE                              #\n",
        "        ############################################################################\n",
        "\n",
        "    def call(self, input_tensor, training=False):\n",
        "        ############################################################################\n",
        "        # TODO: Construct a model that performs well on CIFAR-10                   #\n",
        "        ############################################################################\n",
        "        # *****START OF YOUR CODE (DO NOT DELETE/MODIFY THIS LINE)*****\n",
        "\n",
        "        x = input_tensor\n",
        "        x = self.conv1(x)\n",
        "        x = self.bn1(x)\n",
        "        x = self.relu1(x)\n",
        "        x = self.dp1(x)\n",
        "\n",
        "        x = self.conv2(x)\n",
        "        x = self.bn2(x)\n",
        "        x = self.relu2(x)\n",
        "        x = self.dp2(x)\n",
        "\n",
        "        x = self.fl(x)\n",
        "        x = self.fc(x)\n",
        "\n",
        "        # *****END OF YOUR CODE (DO NOT DELETE/MODIFY THIS LINE)*****\n",
        "        ############################################################################\n",
        "        #                            END OF YOUR CODE                              #\n",
        "        ############################################################################\n",
        "        return x\n",
        "\n",
        "\n",
        "print_every = 100\n",
        "num_epochs = 4\n",
        "\n",
        "model = CustomConvNet()\n",
        "\n",
        "def model_init_fn():\n",
        "    return CustomConvNet()\n",
        "\n",
        "def optimizer_init_fn():\n",
        "    learning_rate = 1e-3\n",
        "    return tf.keras.optimizers.Adam(learning_rate)\n",
        "\n",
        "train_part34(model_init_fn, optimizer_init_fn, num_epochs=num_epochs, is_training=True)"
      ]
    },
    {
      "cell_type": "markdown",
      "metadata": {
        "id": "64Qz1dJMIgh3"
      },
      "source": [
        "Опишите все эксперименты, результаты. Сделайте выводы."
      ]
    },
    {
      "cell_type": "markdown",
      "metadata": {
        "id": "MUZ-5i8C5SPZ"
      },
      "source": [
        "Сравнение оптимизаторов RMSprop и Adam показало, что они дают примерно одинаковые результаты, с небольшим преимуществом у Adam. Проведенное сравнение функций активации relu и sigmoid показало, что первая более эффективна как по временным затратам, так и по показателю точности (accuracy). Введение методов регуляризации, таких как Dropout и BatchNormalization, имело незначительный, но положительный эффект на качество модели на валидационной выборке. Добавление большего количества слоев в текущую архитектуру, вероятно, не приведет к значительному улучшению, учитывая уже высокий уровень точности модели (~ 97%)"
      ]
    }
  ],
  "metadata": {
    "accelerator": "GPU",
    "colab": {
      "gpuType": "T4",
      "provenance": [],
      "toc_visible": true
    },
    "kernelspec": {
      "display_name": "Python 3",
      "name": "python3"
    },
    "language_info": {
      "codemirror_mode": {
        "name": "ipython",
        "version": 3
      },
      "file_extension": ".py",
      "mimetype": "text/x-python",
      "name": "python",
      "nbconvert_exporter": "python",
      "pygments_lexer": "ipython3",
      "version": "3.9.10"
    }
  },
  "nbformat": 4,
  "nbformat_minor": 0
}
